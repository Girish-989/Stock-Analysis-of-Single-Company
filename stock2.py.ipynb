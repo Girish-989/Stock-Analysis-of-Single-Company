{
 "cells": [
  {
   "cell_type": "code",
   "execution_count": 44,
   "metadata": {},
   "outputs": [],
   "source": [
    "import pandas as pd\n",
    "from pandas_datareader import data as web\n",
    "import plotly.graph_objects as go\n",
    "import matplotlib.pyplot as plt\n",
    "%matplotlib inline"
   ]
  },
  {
   "cell_type": "code",
   "execution_count": 45,
   "metadata": {},
   "outputs": [],
   "source": [
    "stock = 'MSFT'\n",
    "\n",
    "df = web.DataReader(stock, data_source = 'yahoo', start = '15-07-2019')\n"
   ]
  },
  {
   "cell_type": "code",
   "execution_count": 46,
   "metadata": {},
   "outputs": [],
   "source": [
    "trace1 = {'x':df.index, 'open':df.Open, 'close':df.Close, \n",
    "         'high':df.High, 'low':df.Low, 'type': 'candlestick', 'name': 'MSFT', \n",
    "         'showLegend' : True}"
   ]
  },
  {
   "cell_type": "code",
   "execution_count": 47,
   "metadata": {},
   "outputs": [],
   "source": [
    "data = [trace1]"
   ]
  },
  {
   "cell_type": "code",
   "execution_count": 48,
   "metadata": {},
   "outputs": [],
   "source": [
    "layout = go.Layout({'title':{'text':'Microsoft(MSFT) moving averages','font':{ 'size': 15 }}})"
   ]
  },
  {
   "cell_type": "code",
   "execution_count": 49,
   "metadata": {},
   "outputs": [],
   "source": [
    "avg_30 = df.Close.rolling(window=30, min_periods=1).mean()"
   ]
  },
  {
   "cell_type": "code",
   "execution_count": 50,
   "metadata": {},
   "outputs": [],
   "source": [
    "# Calculate and define moving average of 50 periods\n",
    "avg_50 = df.Close.rolling(window=50, min_periods=1).mean()\n"
   ]
  },
  {
   "cell_type": "code",
   "execution_count": 53,
   "metadata": {},
   "outputs": [],
   "source": [
    "trace2 = {\n",
    "    'x': df.index,\n",
    "    'y': avg_30,\n",
    "    'type': 'scatter',\n",
    "    'mode': 'lines',\n",
    "    'line': {\n",
    "        'width': 1,\n",
    "        'color': 'blue'\n",
    "            },\n",
    "    'name': 'Moving Average of 30 periods'\n",
    "}"
   ]
  },
  {
   "cell_type": "code",
   "execution_count": 54,
   "metadata": {},
   "outputs": [],
   "source": [
    "trace3 = {\n",
    "    'x': df.index,\n",
    "    'y': avg_50,\n",
    "    'type': 'scatter',\n",
    "    'mode': 'lines',\n",
    "    'line': {\n",
    "        'width': 1,\n",
    "        'color': 'red'\n",
    "    },\n",
    "    'name': 'Moving Average of 50 periods'\n",
    "}"
   ]
  },
  {
   "cell_type": "code",
   "execution_count": null,
   "metadata": {},
   "outputs": [],
   "source": []
  }
 ],
 "metadata": {
  "kernelspec": {
   "display_name": "Python 3",
   "language": "python",
   "name": "python3"
  },
  "language_info": {
   "codemirror_mode": {
    "name": "ipython",
    "version": 3
   },
   "file_extension": ".py",
   "mimetype": "text/x-python",
   "name": "python",
   "nbconvert_exporter": "python",
   "pygments_lexer": "ipython3",
   "version": "3.7.6"
  }
 },
 "nbformat": 4,
 "nbformat_minor": 4
}
